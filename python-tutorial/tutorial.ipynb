{
 "cells": [
  {
   "cell_type": "markdown",
   "metadata": {},
   "source": [
    "# Tutorial\n",
    "\n",
    "Use data from [ERA5-Land](https://www.ecmwf.int/en/era5-land) to examine time scales of variability in surface variables at the grid point closest to HU Beltsville.\n",
    "\n",
    "This tutorial is part of [zmoon92/hu-pbl-workshop-2020/tree/master/python-tutorial](https://github.com/zmoon92/hu-pbl-workshop-2020/tree/master/python-tutorial)."
   ]
  },
  {
   "cell_type": "code",
   "execution_count": 1,
   "metadata": {},
   "outputs": [],
   "source": [
    "import calendar\n",
    "\n",
    "import cartopy.crs as ccrs\n",
    "import cartopy.feature as cfeature\n",
    "from ipywidgets import interact\n",
    "import matplotlib.pyplot as plt\n",
    "import numpy as np\n",
    "import pvlib\n",
    "import xarray as xr"
   ]
  },
  {
   "cell_type": "code",
   "execution_count": 2,
   "metadata": {},
   "outputs": [],
   "source": [
    "%matplotlib notebook\n",
    "\n",
    "plt.rcParams.update({\n",
    "    \"figure.autolayout\": True,\n",
    "    \"axes.xmargin\": 0,\n",
    "})\n",
    "\n",
    "# define some defaults\n",
    "xrp = {\n",
    "    \"size\": 5.2,  # height; if we pass it to xarray plot methods, it will create a new fig\n",
    "    \"aspect\": 1.6,  # aspect * size = width\n",
    "}\n",
    "figsize = (xrp[\"size\"]*xrp[\"aspect\"], xrp[\"size\"])  # width, height"
   ]
  },
  {
   "cell_type": "markdown",
   "metadata": {},
   "source": [
    "## Pre\n",
    "\n",
    "### Load the data\n",
    "\n",
    "According to [the GRUAN page](https://www.gruan.org/network/sites/beltsville), we want to the point closest to 39.0542 °N, 76.8775 °W. In ERA5-Land, which has a resolution of 0.1°, this turns out to be the point 39.1, -76.9. I have already extracted a few years of data for that point to the file `era5-land_bel.nc`. This file is available if you are running the notebook on the MyBinder for the repo (or have cloned the repo). Otherwise, you will need to download it."
   ]
  },
  {
   "cell_type": "markdown",
   "metadata": {},
   "source": [
    "Examine the data set.\n",
    "\n",
    "You can interact with its fancy HTML representation, which will show up if you have xarray [v0.15.1+](http://xarray.pydata.org/en/stable/whats-new.html#v0-15-1-23-mar-2020)."
   ]
  },
  {
   "cell_type": "code",
   "execution_count": null,
   "metadata": {},
   "outputs": [],
   "source": [
    "ds = xr.open_dataset(\"era5-land_bel.nc\")\n",
    "ds"
   ]
  },
  {
   "cell_type": "markdown",
   "metadata": {},
   "source": [
    "Examine a variable."
   ]
  },
  {
   "cell_type": "code",
   "execution_count": null,
   "metadata": {},
   "outputs": [],
   "source": [
    "ds.t2m"
   ]
  },
  {
   "cell_type": "markdown",
   "metadata": {},
   "source": [
    "### Sample time series plots"
   ]
  },
  {
   "cell_type": "code",
   "execution_count": null,
   "metadata": {},
   "outputs": [],
   "source": [
    "ds.u10.plot.line(**xrp);"
   ]
  },
  {
   "cell_type": "markdown",
   "metadata": {},
   "source": [
    "Notice how xarray does all of the labeling for us, including units and descriptive name for the variable being plotted. This is possible because the data set we have loaded follows the [CF Conventions](https://cfconventions.org/), specifying `units` and `long_name` attributes for each variable."
   ]
  },
  {
   "cell_type": "code",
   "execution_count": null,
   "metadata": {},
   "outputs": [],
   "source": [
    "ds.t2m.plot.line(**xrp, lw=0.5, alpha=0.3, label=\"original hourly data\")\n",
    "\n",
    "# add some moving averages (the time resolution is 1 hour)\n",
    "ds.t2m.rolling(time=12, center=True).mean().plot(lw=1.0, alpha=0.5, label=\"1 day moving average\")\n",
    "ds.t2m.rolling(time=12*30, center=True).mean().plot(lw=1.2, alpha=0.8, label=\"30 day moving average\")\n",
    "ds.t2m.rolling(time=12*90, center=True).mean().plot(lw=1.8, alpha=1.0, label=\"90 day moving average\")\n",
    "plt.legend();"
   ]
  },
  {
   "cell_type": "markdown",
   "metadata": {},
   "source": [
    "Relationship between the sensible heat flux and near-surface air temperature?"
   ]
  },
  {
   "cell_type": "code",
   "execution_count": null,
   "metadata": {
    "scrolled": false
   },
   "outputs": [],
   "source": [
    "ds.plot.scatter(x=\"sshf\", y=\"t2m\", marker=\".\", alpha=0.5, edgecolors=\"none\", **xrp);"
   ]
  },
  {
   "cell_type": "markdown",
   "metadata": {},
   "source": [
    "How about at midday in the summer?"
   ]
  },
  {
   "cell_type": "code",
   "execution_count": null,
   "metadata": {},
   "outputs": [],
   "source": [
    "h = ds.time.dt.hour\n",
    "mo = ds.time.dt.month\n",
    "ds.where(\n",
    "    (h >= 14) & (h <= 18) & (mo >= 6) & (mo <= 8)\n",
    ").plot.scatter(x=\"sshf\", y=\"t2m\", marker=\".\", alpha=0.5, edgecolors=\"none\", **xrp);"
   ]
  },
  {
   "cell_type": "markdown",
   "metadata": {},
   "source": [
    "## Tutorial problems"
   ]
  },
  {
   "cell_type": "markdown",
   "metadata": {},
   "source": [
    "### Compare variables to Sun position\n",
    "\n",
    "Which have the strongest correlation?\n",
    "\n",
    "We can compute Sun position with [pvlib](https://pvlib-python.readthedocs.io/en/stable/). [Astropy](https://www.astropy.org/) could also be used for this."
   ]
  },
  {
   "cell_type": "code",
   "execution_count": null,
   "metadata": {},
   "outputs": [],
   "source": [
    "sun_pos = pvlib.solarposition.get_solarposition(ds.time.values, ds.latitude.values, ds.longitude.values)\n",
    "sun_pos"
   ]
  },
  {
   "cell_type": "markdown",
   "metadata": {},
   "source": [
    "Add some of the Sun position variables to our data set."
   ]
  },
  {
   "cell_type": "code",
   "execution_count": null,
   "metadata": {},
   "outputs": [],
   "source": [
    "zen_deg = sun_pos[\"zenith\"]\n",
    "zen = zen_deg.apply(np.deg2rad)\n",
    "ds[\"sza\"] = (\"time\", zen_deg, {\"long_name\": \"solar zenith angle\", \"units\": \"deg\"})\n",
    "ds[\"mu\"] = (\"time\", zen.apply(np.cos), {\"long_name\": \"cos(sza)\", \"units\": \"\"})\n",
    "ds[\"selev\"] = (\"time\", sun_pos[\"elevation\"], {\"long_name\": \"solar elevation angle\", \"units\": \"deg\"})"
   ]
  },
  {
   "cell_type": "code",
   "execution_count": null,
   "metadata": {},
   "outputs": [],
   "source": [
    "day = ds.time.where(ds.selev > 10).dropna(\"time\")\n",
    "\n",
    "ds.sel(time=day).plot.scatter(x=\"sza\", y=\"t2m\", marker=\".\", alpha=0.5, edgecolors=\"none\", **xrp);"
   ]
  },
  {
   "cell_type": "code",
   "execution_count": null,
   "metadata": {},
   "outputs": [],
   "source": [
    "# Explore the data, both Sun position and ERA5 surface variables\n",
    "..."
   ]
  },
  {
   "cell_type": "markdown",
   "metadata": {},
   "source": [
    "### Compare SZA and near-surface temperature\n",
    "\n",
    "It is well-known that the warmest temperatures generally lag the minimum solar zenith angle (SZA), on both seasonal and hourly (diurnal cycle) time scales.\n",
    "\n",
    "Find what that lag is.\n",
    "* seasonal: for each year find the lag between the yearly minimum SZA and daily maximum temperatue\n",
    "* diurnal: ..."
   ]
  },
  {
   "cell_type": "code",
   "execution_count": null,
   "metadata": {},
   "outputs": [],
   "source": [
    "# for each year, calculate the two times and substract them\n",
    "..."
   ]
  },
  {
   "cell_type": "code",
   "execution_count": null,
   "metadata": {},
   "outputs": [],
   "source": []
  },
  {
   "cell_type": "markdown",
   "metadata": {},
   "source": [
    "### Remove seasonal cycle\n",
    "\n",
    "This is often done in statistical analyses so that the seasonal cycle doesn't dominate the signal when looking for relationships.\n",
    "\n",
    "A common method is to represent the seasonal cycle using a number of harmonics, e.g., 10.\n",
    "\n",
    "Examine the estimated seasonal cycles of different variables and the time series with seasonal cycles removed, using the function provided below to calculate the seasonal cycles."
   ]
  },
  {
   "cell_type": "code",
   "execution_count": null,
   "metadata": {},
   "outputs": [],
   "source": [
    "# calculate t_year (here hour-of-year, cf. day-of-year, which the .dt accessors provide) so we can group by it\n",
    "# I would like to know a better (more elegant) way to do this...\n",
    "t_year = ds.time - np.r_[[np.datetime64(f\"{x}\", \"D\") for x in ds.time.dt.year.values]]\n",
    "ds[\"t_in_year\"] = (\"time\", t_year, {\"long_name\": \"time-in-year\"})\n",
    "t_year_leap = ds[\"t_in_year\"].where(ds.time.dt.year == 2016, drop=True).drop([\"latitude\", \"longitude\"], drop=True)\n",
    "# decDOY instead??"
   ]
  },
  {
   "cell_type": "code",
   "execution_count": null,
   "metadata": {},
   "outputs": [],
   "source": [
    "from scipy.fftpack import rfft, irfft\n",
    "import pandas as pd\n",
    "\n",
    "def compute_sc(da, n_harm=10):\n",
    "    \"Compute the mean seasonal cycle, given an xr.DataArray.\"\n",
    "    x = da.groupby(ds.t_in_year).mean().values  # group by hour in year\n",
    "    #x = da.values\n",
    "    z = rfft(x)\n",
    "    z[n_harm:] = 0\n",
    "    return xr.DataArray(\n",
    "        name=f\"sc_{da.name}\", data=irfft(z), dims=\"doy\", coords=[t_year_leap.dt.days + t_year_leap.dt.seconds / (24*3600)],\n",
    "        attrs={\"long_name\": f\"mean seasonal cycle in {da.attrs['long_name']}\", \"units\": da.attrs[\"units\"]},\n",
    "    )\n",
    "\n",
    "sc = compute_sc(ds.t2m, 5)  # see how changing the number impacts the results\n",
    "    \n",
    "sc.plot(size=3, aspect=1.5)\n",
    "\n",
    "\n",
    "t2m = ds.t2m\n",
    "doy = t2m.time.dt.dayofyear\n",
    "year = t2m.time.dt.year\n",
    "t2m_2 = t2m.groupby(year).map(lambda x: x - sc[0:x.size].values)  # allow for leap years\n",
    "t2m_2.attrs = {k: v for k, v in t2m.attrs.items()}  # hack to put the attrs back (I think they are lost because sc doesn't have)\n",
    "\n",
    "t2m_2.plot(size=3, aspect=2.0);"
   ]
  },
  {
   "cell_type": "markdown",
   "metadata": {},
   "source": [
    "## Extras\n",
    "\n",
    "### Map plot\n",
    "\n",
    "We plot data from ERA5 (not ERA5-Land) in a 20x20 degree box around the BEL location. The data are mean (over 1979--2019) monthly, thus, they show climatology."
   ]
  },
  {
   "cell_type": "code",
   "execution_count": null,
   "metadata": {},
   "outputs": [],
   "source": [
    "ds2 = xr.open_dataset(\"era5_bel-box_months_1979-2019.nc\")\n",
    "ds2"
   ]
  },
  {
   "cell_type": "markdown",
   "metadata": {},
   "source": [
    "Quickly see what the data looks like."
   ]
  },
  {
   "cell_type": "code",
   "execution_count": null,
   "metadata": {},
   "outputs": [],
   "source": [
    "plt.figure(); plt.imshow(ds2.t2m.sel(month=1));"
   ]
  },
  {
   "cell_type": "markdown",
   "metadata": {},
   "source": [
    "Now, plot on map using Cartopy."
   ]
  },
  {
   "cell_type": "code",
   "execution_count": null,
   "metadata": {},
   "outputs": [],
   "source": [
    "variable = \"t2m\"  # change here to see the maps for another variable\n",
    "\n",
    "lat = ds2.latitude\n",
    "da = ds2[variable].where((lat >= 35) & (lat <= 45), drop=True)  # cut off a bit\n",
    "\n",
    "# same contour levels for all months. change `30` to get a different number of levels\n",
    "l, h = np.floor(da.min().values), np.ceil(da.max().values); step = np.ceil((h-l)/30)\n",
    "levels = np.arange(l, h+step, step)\n",
    "\n",
    "fig = plt.figure(figsize=figsize)\n",
    "\n",
    "def plot_month(imonth):\n",
    "    fig.clear()\n",
    "    ax = plt.axes(projection=ccrs.Mercator())\n",
    "\n",
    "    ax.add_feature(cfeature.LAND)\n",
    "    ax.add_feature(cfeature.STATES)  # only US, requires sufficiently recent Cartopy\n",
    "\n",
    "    gl = ax.gridlines(draw_labels=True)\n",
    "    #gl.xlabels_top = False; gl.ylabels_right = False  # now deprecated\n",
    "    gl.top_labels = False; gl.right_labels = False  # preferred syntax\n",
    "    \n",
    "    data = da.sel(month=imonth)\n",
    "    data.plot.contourf(x=\"longitude\", y=\"latitude\", levels=levels, ax=ax, transform=ccrs.PlateCarree())\n",
    "    \n",
    "    ax.set_title(f\"{ax.get_title()} ({calendar.month_name[imonth]})\")\n",
    "\n",
    "    \n",
    "interact(plot_month, imonth=(1, 12, 1));"
   ]
  },
  {
   "cell_type": "code",
   "execution_count": null,
   "metadata": {},
   "outputs": [],
   "source": []
  }
 ],
 "metadata": {
  "kernelspec": {
   "display_name": "Python 3",
   "language": "python",
   "name": "python3"
  },
  "language_info": {
   "codemirror_mode": {
    "name": "ipython",
    "version": 3
   },
   "file_extension": ".py",
   "mimetype": "text/x-python",
   "name": "python",
   "nbconvert_exporter": "python",
   "pygments_lexer": "ipython3",
   "version": "3.7.6"
  },
  "toc": {
   "base_numbering": 1,
   "nav_menu": {},
   "number_sections": true,
   "sideBar": false,
   "skip_h1_title": true,
   "title_cell": "Table of Contents",
   "title_sidebar": "Contents",
   "toc_cell": false,
   "toc_position": {
    "height": "435px",
    "left": "42px",
    "top": "111.133px",
    "width": "291.6px"
   },
   "toc_section_display": true,
   "toc_window_display": true
  }
 },
 "nbformat": 4,
 "nbformat_minor": 4
}
